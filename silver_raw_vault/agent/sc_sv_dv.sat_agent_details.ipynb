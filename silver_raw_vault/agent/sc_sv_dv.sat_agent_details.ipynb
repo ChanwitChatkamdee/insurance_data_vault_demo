{
 "cells": [
  {
   "cell_type": "code",
   "execution_count": 0,
   "metadata": {
    "application/vnd.databricks.v1+cell": {
     "cellMetadata": {
      "byteLimit": 2048000,
      "rowLimit": 10000
     },
     "inputWidgets": {},
     "nuid": "4f8eba72-daba-4924-b60e-82280e5d7155",
     "showTitle": false,
     "tableResultSettingsMap": {},
     "title": ""
    }
   },
   "outputs": [],
   "source": [
    "import sys\n",
    "sys.path.append(\"../../\")"
   ]
  },
  {
   "cell_type": "code",
   "execution_count": 0,
   "metadata": {
    "application/vnd.databricks.v1+cell": {
     "cellMetadata": {
      "byteLimit": 2048000,
      "rowLimit": 10000
     },
     "inputWidgets": {},
     "nuid": "acaf7803-9b75-4403-bcf2-05b7b772fcb7",
     "showTitle": false,
     "tableResultSettingsMap": {},
     "title": ""
    }
   },
   "outputs": [],
   "source": [
    "from pyspark.sql.types import *\n",
    "from pyspark.sql.functions import *\n",
    "\n",
    "from src_staging.sv_agent_stage import create_agent_stage, sat_agent_details_schema\n",
    "from pyspark.sql.window import Window\n",
    "from pyspark.sql.functions import row_number, col, current_timestamp"
   ]
  },
  {
   "cell_type": "code",
   "execution_count": 0,
   "metadata": {
    "application/vnd.databricks.v1+cell": {
     "cellMetadata": {
      "byteLimit": 2048000,
      "rowLimit": 10000
     },
     "inputWidgets": {},
     "nuid": "df9d4a73-cdf5-462e-888d-480aa00af73f",
     "showTitle": false,
     "tableResultSettingsMap": {},
     "title": ""
    }
   },
   "outputs": [],
   "source": [
    "partition_name = 'partition_date'\n",
    "partition_date = '20250828'"
   ]
  },
  {
   "cell_type": "code",
   "execution_count": 0,
   "metadata": {
    "application/vnd.databricks.v1+cell": {
     "cellMetadata": {
      "byteLimit": 2048000,
      "rowLimit": 10000
     },
     "inputWidgets": {},
     "nuid": "fd5385cc-4ad6-481f-a624-19988a9dbf45",
     "showTitle": false,
     "tableResultSettingsMap": {},
     "title": ""
    }
   },
   "outputs": [],
   "source": [
    "_bz_table = 'ctl_central_published.sc_bz_source_name.dt_customer_journey_daily'\n",
    "_sat_sv_table = 'ctl_central_published.sc_sv_raw_vault.sat_agent_details'\n",
    "partition_date_fmt = f\"{partition_date[:4]}-{partition_date[4:6]}-{partition_date[6:]}\""
   ]
  },
  {
   "cell_type": "code",
   "execution_count": 0,
   "metadata": {
    "application/vnd.databricks.v1+cell": {
     "cellMetadata": {
      "byteLimit": 2048000,
      "rowLimit": 10000
     },
     "inputWidgets": {},
     "nuid": "f48efb9c-df48-4d84-9e08-8d63b0031ae9",
     "showTitle": false,
     "tableResultSettingsMap": {
      "0": {
       "dataGridStateBlob": "{\"version\":1,\"tableState\":{\"columnPinning\":{\"left\":[\"#row_number#\"],\"right\":[]},\"columnSizing\":{},\"columnVisibility\":{}},\"settings\":{\"columns\":{}},\"syncTimestamp\":1754981429873}",
       "filterBlob": null,
       "queryPlanFiltersBlob": null,
       "tableResultIndex": 0
      }
     },
     "title": ""
    }
   },
   "outputs": [],
   "source": [
    "sv_df = create_agent_stage(_bz_table, partition_name, partition_date_fmt)\n",
    "sv_df.display()"
   ]
  },
  {
   "cell_type": "code",
   "execution_count": 0,
   "metadata": {
    "application/vnd.databricks.v1+cell": {
     "cellMetadata": {
      "byteLimit": 2048000,
      "rowLimit": 10000
     },
     "inputWidgets": {},
     "nuid": "85fb04fe-0af3-436e-b918-c928910f687c",
     "showTitle": false,
     "tableResultSettingsMap": {},
     "title": ""
    }
   },
   "outputs": [],
   "source": [
    "# incoming snapshot from your SV customer staging (one row per customer_id)\n",
    "incoming = (sv_df\n",
    "    .select(\n",
    "        col(\"agent_id\"),\n",
    "        col(\"agent_name\"),\n",
    "        col(\"region\"),\n",
    "        col(\"license_number\"),\n",
    "        col(\"record_source\"),\n",
    "        col(\"event_ts\"),\n",
    "        col(\"record_source\"),\n",
    "        col(\"partition_date\")\n",
    "    )\n",
    "    .withColumn(\n",
    "        \"hashdiff\",\n",
    "        sha2(concat_ws(\"||\",\n",
    "            (col(\"agent_name\")),\n",
    "            (col(\"region\"))\n",
    "        ), 256)\n",
    "    )\n",
    "    .withColumn(\"effective_from_ts\", current_timestamp())\n",
    ")\n",
    "\n",
    "w = Window.partitionBy(\"license_number\").orderBy(col(\"event_ts\").desc())\n",
    "\n",
    "incoming_dedup = (incoming\n",
    "    .withColumn(\"rn\", row_number().over(w))\n",
    "    .filter(\"rn = 1\")\n",
    "    .drop(\"rn\")\n",
    ")\n",
    "\n",
    "incoming_dedup.createOrReplaceTempView(\"incoming_agent\")"
   ]
  },
  {
   "cell_type": "code",
   "execution_count": 0,
   "metadata": {
    "application/vnd.databricks.v1+cell": {
     "cellMetadata": {
      "byteLimit": 2048000,
      "rowLimit": 10000
     },
     "inputWidgets": {},
     "nuid": "7c2ea0b4-fe97-4c76-a252-e87ff0169ec2",
     "showTitle": false,
     "tableResultSettingsMap": {},
     "title": ""
    }
   },
   "outputs": [],
   "source": [
    "if not spark.catalog.tableExists(_sat_sv_table):\n",
    "    (\n",
    "        spark.createDataFrame([], sat_agent_details_schema())\n",
    "        .write.format(\"delta\")\n",
    "        .saveAsTable(_sat_sv_table)\n",
    "    )\n",
    "\n",
    "spark.sql(f\"\"\"\n",
    "    MERGE INTO {_sat_sv_table} AS tgt\n",
    "    USING incoming_agent AS src\n",
    "    ON  tgt.license_number = src.license_number\n",
    "    AND tgt.is_current = true\n",
    "\n",
    "    WHEN MATCHED AND tgt.hashdiff <> src.hashdiff THEN\n",
    "    UPDATE SET\n",
    "        tgt.effective_to_ts = src.effective_from_ts,\n",
    "        tgt.is_current      = false\n",
    "\n",
    "    WHEN NOT MATCHED THEN\n",
    "    INSERT (\n",
    "        license_number, agent_name, region, agent_id,\n",
    "        hashdiff, effective_from_ts, effective_to_ts, is_current,\n",
    "        record_source, _ingest_ts, partition_date\n",
    "    )\n",
    "    VALUES (\n",
    "        src.license_number, src.agent_name, src.region, src.agent_id,\n",
    "        src.hashdiff, src.effective_from_ts, NULL, true,\n",
    "        src.record_source, current_timestamp(), src.partition_date\n",
    "        )\n",
    "\"\"\")"
   ]
  },
  {
   "cell_type": "code",
   "execution_count": 0,
   "metadata": {
    "application/vnd.databricks.v1+cell": {
     "cellMetadata": {
      "byteLimit": 2048000,
      "rowLimit": 10000
     },
     "inputWidgets": {},
     "nuid": "f7ebca33-b687-4523-a60d-67abc8735f73",
     "showTitle": false,
     "tableResultSettingsMap": {},
     "title": ""
    }
   },
   "outputs": [],
   "source": []
  }
 ],
 "metadata": {
  "application/vnd.databricks.v1+notebook": {
   "computePreferences": null,
   "dashboards": [],
   "environmentMetadata": {
    "base_environment": "",
    "environment_version": "2"
   },
   "inputWidgetPreferences": null,
   "language": "python",
   "notebookMetadata": {
    "pythonIndentUnit": 4
   },
   "notebookName": "sc_sv_dv.sat_agent_details",
   "widgets": {}
  },
  "language_info": {
   "name": "python"
  }
 },
 "nbformat": 4,
 "nbformat_minor": 0
}
