{
 "cells": [
  {
   "cell_type": "code",
   "execution_count": 0,
   "metadata": {
    "application/vnd.databricks.v1+cell": {
     "cellMetadata": {
      "byteLimit": 2048000,
      "rowLimit": 10000
     },
     "inputWidgets": {},
     "nuid": "afe68ac1-f5b4-49d2-8b9f-9ac6a6c0ee67",
     "showTitle": false,
     "tableResultSettingsMap": {},
     "title": ""
    }
   },
   "outputs": [],
   "source": [
    "import sys\n",
    "sys.path.append(\"../../\")"
   ]
  },
  {
   "cell_type": "code",
   "execution_count": 0,
   "metadata": {
    "application/vnd.databricks.v1+cell": {
     "cellMetadata": {
      "byteLimit": 2048000,
      "rowLimit": 10000
     },
     "inputWidgets": {},
     "nuid": "b809c12a-1684-4d62-af32-08160ba97aea",
     "showTitle": false,
     "tableResultSettingsMap": {},
     "title": ""
    }
   },
   "outputs": [],
   "source": [
    "from pyspark.sql.functions import (\n",
    "    col, lit, to_date, to_timestamp, row_number,\n",
    "    countDistinct, first, sum as sql_sum, when, coalesce,\n",
    "    max as sql_max, min as sql_min, current_date, current_timestamp\n",
    ")\n",
    "from pyspark.sql.window import Window\n",
    "from delta.tables import DeltaTable\n",
    "\n",
    "from bussiness.customer import bv_customer_360_schema"
   ]
  },
  {
   "cell_type": "code",
   "execution_count": 0,
   "metadata": {
    "application/vnd.databricks.v1+cell": {
     "cellMetadata": {
      "byteLimit": 2048000,
      "rowLimit": 10000
     },
     "inputWidgets": {},
     "nuid": "72c0c3f0-edc2-4d2e-93af-3a24cfe9f90c",
     "showTitle": false,
     "tableResultSettingsMap": {},
     "title": ""
    }
   },
   "outputs": [],
   "source": [
    "partition_name = 'partition_date'\n",
    "partition_date = '20250828'"
   ]
  },
  {
   "cell_type": "code",
   "execution_count": 0,
   "metadata": {
    "application/vnd.databricks.v1+cell": {
     "cellMetadata": {
      "byteLimit": 2048000,
      "rowLimit": 10000
     },
     "inputWidgets": {},
     "nuid": "fde2ffcf-8b88-4cd8-b505-88fef078679c",
     "showTitle": false,
     "tableResultSettingsMap": {},
     "title": ""
    }
   },
   "outputs": [],
   "source": [
    "partition_date_fmt = f\"{partition_date[:4]}-{partition_date[4:6]}-{partition_date[6:]}\"\n",
    "\n",
    "sat_cust_info_table = \"ctl_central_published.sc_sv_dv.sat_customer_personinfo\"\n",
    "hub_cust_table = \"ctl_central_published.sc_sv_dv.hub_customer_daily\"\n",
    "link_cust_pol_table = \"ctl_central_published.sc_sv_dv.link_customer_policy\"\n",
    "\n",
    "sat_pol_det = \"ctl_central_published.sc_sv_dv.sat_policy_details\"\n",
    "sat_pol_event = \"ctl_central_published.sc_sv_dv.sat_policy_status_event\"\n",
    "\n",
    "output_table  = \"ctl_central_published.sc_sv_bv_customer.customer_360\""
   ]
  },
  {
   "cell_type": "markdown",
   "metadata": {
    "application/vnd.databricks.v1+cell": {
     "cellMetadata": {
      "byteLimit": 2048000,
      "rowLimit": 10000
     },
     "inputWidgets": {},
     "nuid": "f98fdef0-b206-4b18-b5dd-e4ad1146f8b6",
     "showTitle": false,
     "tableResultSettingsMap": {},
     "title": ""
    }
   },
   "source": [
    "# Customer"
   ]
  },
  {
   "cell_type": "code",
   "execution_count": 0,
   "metadata": {
    "application/vnd.databricks.v1+cell": {
     "cellMetadata": {
      "byteLimit": 2048000,
      "rowLimit": 10000
     },
     "inputWidgets": {},
     "nuid": "dc4e123b-a005-4a94-b0cf-ab52961280f5",
     "showTitle": false,
     "tableResultSettingsMap": {},
     "title": ""
    }
   },
   "outputs": [],
   "source": [
    "today_cust = spark.sql(f\"\"\"\n",
    "                        select * \n",
    "                        from {hub_cust_table}\n",
    "                        where {partition_name} = '{partition_date_fmt}'\n",
    "                       \"\"\")"
   ]
  },
  {
   "cell_type": "code",
   "execution_count": 0,
   "metadata": {
    "application/vnd.databricks.v1+cell": {
     "cellMetadata": {
      "byteLimit": 2048000,
      "rowLimit": 10000
     },
     "inputWidgets": {},
     "nuid": "39d50a7b-cf87-40fc-bc7c-934bedff5007",
     "showTitle": false,
     "tableResultSettingsMap": {},
     "title": ""
    }
   },
   "outputs": [],
   "source": [
    "cust_det = spark.sql(f\"\"\"\n",
    "                        select * \n",
    "                        from {sat_cust_info_table}\n",
    "                        where is_current = TRUE\n",
    "                       \"\"\")\\\n",
    "                .select(\"customer_id\",\"full_name\",\"dob\",\"email\",\"phone\",\"city\")"
   ]
  },
  {
   "cell_type": "code",
   "execution_count": 0,
   "metadata": {
    "application/vnd.databricks.v1+cell": {
     "cellMetadata": {
      "byteLimit": 2048000,
      "rowLimit": 10000
     },
     "inputWidgets": {},
     "nuid": "62d64963-9309-461e-877b-c1667278189e",
     "showTitle": false,
     "tableResultSettingsMap": {},
     "title": ""
    }
   },
   "outputs": [],
   "source": [
    "today_cust_det = today_cust.alias('h').join(cust_det.alias('s') ,on=\"customer_id\", how=\"left\")\n",
    "today_cust_det.display()"
   ]
  },
  {
   "cell_type": "markdown",
   "metadata": {
    "application/vnd.databricks.v1+cell": {
     "cellMetadata": {
      "byteLimit": 2048000,
      "rowLimit": 10000
     },
     "inputWidgets": {},
     "nuid": "e9d25c29-7f5c-44d4-a758-c8b67b05c588",
     "showTitle": false,
     "tableResultSettingsMap": {},
     "title": ""
    }
   },
   "source": [
    "# Policy"
   ]
  },
  {
   "cell_type": "code",
   "execution_count": 0,
   "metadata": {
    "application/vnd.databricks.v1+cell": {
     "cellMetadata": {
      "byteLimit": 2048000,
      "rowLimit": 10000
     },
     "inputWidgets": {},
     "nuid": "9f1935ba-36ab-4e5f-9c13-fc69df618db6",
     "showTitle": false,
     "tableResultSettingsMap": {},
     "title": ""
    }
   },
   "outputs": [],
   "source": [
    "sat_pol_det_changed = spark.sql(f\"\"\"\n",
    "                        select * \n",
    "                        from {sat_pol_det}\n",
    "                        where is_current = TRUE\n",
    "                       \"\"\")\n",
    "sat_pol_det_changed.display()"
   ]
  },
  {
   "cell_type": "code",
   "execution_count": 0,
   "metadata": {
    "application/vnd.databricks.v1+cell": {
     "cellMetadata": {
      "byteLimit": 2048000,
      "rowLimit": 10000
     },
     "inputWidgets": {},
     "nuid": "571fb213-22d1-421d-b748-524c087f011a",
     "showTitle": false,
     "tableResultSettingsMap": {
      "0": {
       "dataGridStateBlob": "{\"version\":1,\"tableState\":{\"columnPinning\":{\"left\":[\"#row_number#\"],\"right\":[]},\"columnSizing\":{},\"columnVisibility\":{}},\"settings\":{\"columns\":{}},\"syncTimestamp\":1754921050791}",
       "filterBlob": null,
       "queryPlanFiltersBlob": null,
       "tableResultIndex": 0
      }
     },
     "title": ""
    }
   },
   "outputs": [],
   "source": [
    "sat_pol_event = spark.sql(f\"\"\"\n",
    "                        select * \n",
    "                        from {sat_pol_event}\n",
    "                        where {partition_name} = '{partition_date_fmt}'\n",
    "                       \"\"\")\n",
    "\n",
    "w_policy = Window.partitionBy(\"policy_number\").orderBy(col(\"status_ts\").desc())\n",
    "cur_status = (sat_pol_event\n",
    "    .withColumn(\"rn\", row_number().over(w_policy))\n",
    "    .where(col(\"rn\") == lit(1))\n",
    "    .select(\"policy_number\", col(\"status\").alias(\"current_status\"), col(\"status_ts\").alias(\"current_status_ts\")))\n",
    "\n",
    "cur_status = cur_status.alias('cur').join(sat_pol_det_changed.alias('s') , on=\"policy_number\", how=\"left\")\\\n",
    "    .select('cur.*', 's.start_date', 's.end_date')\n",
    "\n",
    "cur_status.display()"
   ]
  },
  {
   "cell_type": "markdown",
   "metadata": {
    "application/vnd.databricks.v1+cell": {
     "cellMetadata": {
      "byteLimit": 2048000,
      "rowLimit": 10000
     },
     "inputWidgets": {},
     "nuid": "04b0e3a4-0762-4dd5-b933-583972d1f5c9",
     "showTitle": false,
     "tableResultSettingsMap": {},
     "title": ""
    }
   },
   "source": [
    "# Link customer policy"
   ]
  },
  {
   "cell_type": "code",
   "execution_count": 0,
   "metadata": {
    "application/vnd.databricks.v1+cell": {
     "cellMetadata": {
      "byteLimit": 2048000,
      "rowLimit": 10000
     },
     "inputWidgets": {},
     "nuid": "518c5f3b-728c-4e99-8463-8116a653a359",
     "showTitle": false,
     "tableResultSettingsMap": {},
     "title": ""
    }
   },
   "outputs": [],
   "source": [
    "link_cust_pol = spark.sql(f\"\"\"\n",
    "                        select * \n",
    "                        from {link_cust_pol_table}\n",
    "                       \"\"\")\n",
    "link_cust_pol.display()"
   ]
  },
  {
   "cell_type": "markdown",
   "metadata": {
    "application/vnd.databricks.v1+cell": {
     "cellMetadata": {
      "byteLimit": 2048000,
      "rowLimit": 10000
     },
     "inputWidgets": {},
     "nuid": "71790c2d-535e-45bb-a2a8-4a4145dce8d4",
     "showTitle": false,
     "tableResultSettingsMap": {},
     "title": ""
    }
   },
   "source": [
    "# Customer Link Policy"
   ]
  },
  {
   "cell_type": "code",
   "execution_count": 0,
   "metadata": {
    "application/vnd.databricks.v1+cell": {
     "cellMetadata": {
      "byteLimit": 2048000,
      "rowLimit": 10000
     },
     "inputWidgets": {},
     "nuid": "4f8c3e37-946a-4e7f-be13-416ee002e517",
     "showTitle": false,
     "tableResultSettingsMap": {
      "0": {
       "dataGridStateBlob": "{\"version\":1,\"tableState\":{\"columnPinning\":{\"left\":[\"#row_number#\"],\"right\":[]},\"columnSizing\":{},\"columnVisibility\":{}},\"settings\":{\"columns\":{}},\"syncTimestamp\":1754910194751}",
       "filterBlob": null,
       "queryPlanFiltersBlob": null,
       "tableResultIndex": 0
      }
     },
     "title": ""
    }
   },
   "outputs": [],
   "source": [
    "today_cust_pol = (\n",
    "    today_cust_det.alias(\"h\").join(link_cust_pol.alias(\"l\"), on=\"customer_id\", how=\"left\")\n",
    "     .select('h.*', \n",
    "             'l.policy_number', \n",
    "             'l.record_source',\n",
    "     ).withColumnRenamed(\"_ingest_ts\", \"first_seen_ts\")\n",
    ")\n",
    "today_cust_pol.display()"
   ]
  },
  {
   "cell_type": "markdown",
   "metadata": {
    "application/vnd.databricks.v1+cell": {
     "cellMetadata": {
      "byteLimit": 2048000,
      "rowLimit": 10000
     },
     "inputWidgets": {},
     "nuid": "27b1e2bc-9b1b-4bda-ba8e-6b956378e401",
     "showTitle": false,
     "tableResultSettingsMap": {},
     "title": ""
    }
   },
   "source": [
    "# Join Policy"
   ]
  },
  {
   "cell_type": "code",
   "execution_count": 0,
   "metadata": {
    "application/vnd.databricks.v1+cell": {
     "cellMetadata": {
      "byteLimit": 2048000,
      "rowLimit": 10000
     },
     "inputWidgets": {},
     "nuid": "f25e50bc-c72c-49e0-bbbf-54051afa94b9",
     "showTitle": false,
     "tableResultSettingsMap": {
      "0": {
       "dataGridStateBlob": "{\"version\":1,\"tableState\":{\"columnPinning\":{\"left\":[\"#row_number#\"],\"right\":[]},\"columnSizing\":{},\"columnVisibility\":{}},\"settings\":{\"columns\":{}},\"syncTimestamp\":1754920465113}",
       "filterBlob": null,
       "queryPlanFiltersBlob": null,
       "tableResultIndex": 0
      }
     },
     "title": ""
    }
   },
   "outputs": [],
   "source": [
    "today_cust_pol = (today_cust_pol.alias('h')\n",
    "                  .join(cur_status.alias('s'), on=\"policy_number\", how=\"left\")\n",
    "                  )\\\n",
    "                  .withColumnRenamed('current_status_ts','last_status_ts')\\\n",
    "                  .withColumn(\n",
    "                    \"policy_is_active\",\n",
    "                    coalesce(\n",
    "                        col(\"current_status\").isin([\"ACTIVE\",\"REINSTATED\"]),\n",
    "                        (current_date() >= col(\"start_date\")) & (current_date() <= col(\"end_date\"))\n",
    "                    )\n",
    "                )\n",
    "                  \n",
    "today_cust_pol.display()"
   ]
  },
  {
   "cell_type": "markdown",
   "metadata": {
    "application/vnd.databricks.v1+cell": {
     "cellMetadata": {
      "byteLimit": 2048000,
      "rowLimit": 10000
     },
     "inputWidgets": {},
     "nuid": "cf1610e3-241d-43aa-9960-e956dc5080fb",
     "showTitle": false,
     "tableResultSettingsMap": {},
     "title": ""
    }
   },
   "source": [
    "# Roll up"
   ]
  },
  {
   "cell_type": "code",
   "execution_count": 0,
   "metadata": {
    "application/vnd.databricks.v1+cell": {
     "cellMetadata": {
      "byteLimit": 2048000,
      "rowLimit": 10000
     },
     "inputWidgets": {},
     "nuid": "ee94aebe-a81b-41fa-8a94-0f5fbe9ab98e",
     "showTitle": false,
     "tableResultSettingsMap": {
      "0": {
       "dataGridStateBlob": "{\"version\":1,\"tableState\":{\"columnPinning\":{\"left\":[\"#row_number#\"],\"right\":[]},\"columnSizing\":{},\"columnVisibility\":{}},\"settings\":{\"columns\":{}},\"syncTimestamp\":1754921501518}",
       "filterBlob": null,
       "queryPlanFiltersBlob": null,
       "tableResultIndex": 0
      }
     },
     "title": ""
    }
   },
   "outputs": [],
   "source": [
    "roll = (today_cust_pol.groupBy(\"customer_id\")\n",
    "    .agg(\n",
    "        first(col(\"full_name\")).alias(\"full_name\"),\n",
    "        first(col(\"dob\")).alias(\"dob\"),\n",
    "        first(col(\"email\")).alias(\"email\"),\n",
    "        first(col(\"phone\")).alias(\"phone\"),\n",
    "        first(col(\"city\")).alias(\"city\"),\n",
    "        first(col(\"first_seen_ts\")).alias(\"first_seen_ts\"),\n",
    "        countDistinct(\"policy_number\").alias(\"policies_total\"),\n",
    "        sql_sum(when(col(\"policy_is_active\"), lit(1)).otherwise(lit(0))).cast(\"int\").alias(\"policies_active\"),\n",
    "        sql_max(col(\"last_status_ts\")).alias(\"last_status_ts\"),\n",
    "    ))\n",
    "roll.display()"
   ]
  },
  {
   "cell_type": "code",
   "execution_count": 0,
   "metadata": {
    "application/vnd.databricks.v1+cell": {
     "cellMetadata": {
      "byteLimit": 2048000,
      "rowLimit": 10000
     },
     "inputWidgets": {},
     "nuid": "e49f8ee9-9556-480e-8350-379df478a26e",
     "showTitle": false,
     "tableResultSettingsMap": {},
     "title": ""
    }
   },
   "outputs": [],
   "source": [
    "if not spark.catalog.tableExists(output_table):\n",
    "    bv_customer_360_schema = bv_customer_360_schema()\n",
    "    (\n",
    "        spark.createDataFrame([], bv_customer_360_schema)\n",
    "        .write\n",
    "        .format(\"delta\")\n",
    "        .saveAsTable(output_table)\n",
    "    )"
   ]
  },
  {
   "cell_type": "code",
   "execution_count": 0,
   "metadata": {
    "application/vnd.databricks.v1+cell": {
     "cellMetadata": {
      "byteLimit": 2048000,
      "rowLimit": 10000
     },
     "inputWidgets": {},
     "nuid": "1499d4e1-5064-4113-abca-b21d3d76d476",
     "showTitle": false,
     "tableResultSettingsMap": {},
     "title": ""
    }
   },
   "outputs": [],
   "source": [
    "target = DeltaTable.forName(spark, output_table)\n",
    "(target.alias(\"t\")\n",
    "    .merge(roll.alias(\"s\"), \"t.customer_id = s.customer_id\")\n",
    "    .whenMatchedUpdateAll()\n",
    "    .whenNotMatchedInsertAll()\n",
    "    .execute())"
   ]
  },
  {
   "cell_type": "code",
   "execution_count": 0,
   "metadata": {
    "application/vnd.databricks.v1+cell": {
     "cellMetadata": {},
     "inputWidgets": {},
     "nuid": "a20e04c6-bef3-45a0-b3ea-b707aea8721c",
     "showTitle": false,
     "tableResultSettingsMap": {},
     "title": ""
    }
   },
   "outputs": [],
   "source": []
  }
 ],
 "metadata": {
  "application/vnd.databricks.v1+notebook": {
   "computePreferences": null,
   "dashboards": [],
   "environmentMetadata": {
    "base_environment": "",
    "environment_version": "2"
   },
   "inputWidgetPreferences": null,
   "language": "python",
   "notebookMetadata": {
    "pythonIndentUnit": 4
   },
   "notebookName": "sc_sv_bv_customer.customer_360",
   "widgets": {}
  },
  "language_info": {
   "name": "python"
  }
 },
 "nbformat": 4,
 "nbformat_minor": 0
}
