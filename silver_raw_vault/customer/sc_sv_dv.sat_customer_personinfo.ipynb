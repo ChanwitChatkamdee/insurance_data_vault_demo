{
 "cells": [
  {
   "cell_type": "code",
   "execution_count": 0,
   "metadata": {
    "application/vnd.databricks.v1+cell": {
     "cellMetadata": {
      "byteLimit": 2048000,
      "rowLimit": 10000
     },
     "inputWidgets": {},
     "nuid": "997ac073-afd1-425d-aa17-171186cbce1a",
     "showTitle": false,
     "tableResultSettingsMap": {},
     "title": ""
    }
   },
   "outputs": [],
   "source": [
    "import sys\n",
    "sys.path.append(\"../../\")"
   ]
  },
  {
   "cell_type": "code",
   "execution_count": 0,
   "metadata": {
    "application/vnd.databricks.v1+cell": {
     "cellMetadata": {
      "byteLimit": 2048000,
      "rowLimit": 10000
     },
     "inputWidgets": {},
     "nuid": "e7378f92-4f2f-4bae-a75e-3637320f5ac7",
     "showTitle": false,
     "tableResultSettingsMap": {},
     "title": ""
    }
   },
   "outputs": [],
   "source": [
    "from pyspark.sql.types import *\n",
    "from pyspark.sql.functions import *\n",
    "\n",
    "from src_staging.sv_customer_stage import create_customer_stage, sat_customer_info_schema"
   ]
  },
  {
   "cell_type": "code",
   "execution_count": 0,
   "metadata": {
    "application/vnd.databricks.v1+cell": {
     "cellMetadata": {
      "byteLimit": 2048000,
      "rowLimit": 10000
     },
     "inputWidgets": {},
     "nuid": "76b0244e-af75-4ef9-9d89-a64849e99892",
     "showTitle": false,
     "tableResultSettingsMap": {},
     "title": ""
    }
   },
   "outputs": [],
   "source": [
    "partition_name = 'partition_date'\n",
    "partition_date = '20250828'"
   ]
  },
  {
   "cell_type": "code",
   "execution_count": 0,
   "metadata": {
    "application/vnd.databricks.v1+cell": {
     "cellMetadata": {
      "byteLimit": 2048000,
      "rowLimit": 10000
     },
     "inputWidgets": {},
     "nuid": "3859faf3-affd-4668-9a57-9dfa0bd14ff5",
     "showTitle": false,
     "tableResultSettingsMap": {},
     "title": ""
    }
   },
   "outputs": [],
   "source": [
    "_bz_table = 'ctl_central_published.sc_bz_source_name.dt_customer_journey_daily'\n",
    "_sat_sv_table = 'ctl_central_published.sc_sv_raw_vault.sat_customer_personinfo'\n",
    "partition_date_fmt = f\"{partition_date[:4]}-{partition_date[4:6]}-{partition_date[6:]}\""
   ]
  },
  {
   "cell_type": "code",
   "execution_count": 0,
   "metadata": {
    "application/vnd.databricks.v1+cell": {
     "cellMetadata": {
      "byteLimit": 2048000,
      "rowLimit": 10000
     },
     "inputWidgets": {},
     "nuid": "6663cada-51e8-4b18-a06e-34459d191a21",
     "showTitle": false,
     "tableResultSettingsMap": {},
     "title": ""
    }
   },
   "outputs": [],
   "source": [
    "sv_df = create_customer_stage(_bz_table, partition_name, partition_date_fmt)\n",
    "sv_df.display()"
   ]
  },
  {
   "cell_type": "code",
   "execution_count": 0,
   "metadata": {
    "application/vnd.databricks.v1+cell": {
     "cellMetadata": {
      "byteLimit": 2048000,
      "rowLimit": 10000
     },
     "inputWidgets": {},
     "nuid": "d6e802d4-3215-400a-92dd-a846326faa43",
     "showTitle": false,
     "tableResultSettingsMap": {},
     "title": ""
    }
   },
   "outputs": [],
   "source": [
    "# incoming snapshot from your SV customer staging (one row per customer_id)\n",
    "incoming = (sv_df\n",
    "    .select(\n",
    "        col(\"customer_id\"),\n",
    "        col(\"full_name\"),\n",
    "        col(\"dob\"),\n",
    "        col(\"email\"),\n",
    "        col(\"phone\"),\n",
    "        col(\"city\"),\n",
    "        col(\"record_source\"),\n",
    "        col(\"partition_date\")\n",
    "    )\n",
    "    .withColumn(\"hashdiff\", sha2(concat_ws(\"||\",\n",
    "        col(\"full_name\"), col(\"dob\").cast(\"string\"),\n",
    "        col(\"email\"), col(\"phone\"), col(\"city\")\n",
    "    ), 256))\n",
    "    .withColumn(\"effective_from_ts\", current_timestamp())\n",
    ")\n",
    "\n",
    "incoming.createOrReplaceTempView(\"incoming_customer\")"
   ]
  },
  {
   "cell_type": "code",
   "execution_count": 0,
   "metadata": {
    "application/vnd.databricks.v1+cell": {
     "cellMetadata": {
      "byteLimit": 2048000,
      "rowLimit": 10000
     },
     "inputWidgets": {},
     "nuid": "acb939d8-2e3b-4461-a000-ce23a0865800",
     "showTitle": false,
     "tableResultSettingsMap": {},
     "title": ""
    }
   },
   "outputs": [],
   "source": [
    "if not spark.catalog.tableExists(_sat_sv_table):\n",
    "    sat_customer_info_schema = sat_customer_info_schema()\n",
    "    (\n",
    "        spark.createDataFrame([], sat_customer_info_schema)\n",
    "        .write\n",
    "        .format(\"delta\")\n",
    "        .saveAsTable(_sat_sv_table)\n",
    "    )\n",
    "\n",
    "spark.sql(f\"\"\"\n",
    "    MERGE INTO {_sat_sv_table} AS tgt\n",
    "    USING incoming_customer AS src\n",
    "    ON  tgt.customer_id = src.customer_id\n",
    "    AND tgt.is_current = true\n",
    "\n",
    "    WHEN MATCHED AND tgt.hashdiff <> src.hashdiff THEN\n",
    "    UPDATE SET\n",
    "        tgt.effective_to_ts = src.effective_from_ts,\n",
    "        tgt.is_current      = false\n",
    "\n",
    "    WHEN NOT MATCHED THEN\n",
    "    INSERT (customer_id, full_name, dob, email, phone, city,\n",
    "            hashdiff, effective_from_ts, effective_to_ts, is_current,\n",
    "            record_source, _ingest_ts, partition_date)\n",
    "    VALUES (src.customer_id, src.full_name, src.dob, src.email, src.phone, src.city,\n",
    "            src.hashdiff, src.effective_from_ts, NULL, true,\n",
    "            src.record_source, current_timestamp(), src.partition_date)\n",
    "\"\"\")"
   ]
  },
  {
   "cell_type": "code",
   "execution_count": 0,
   "metadata": {
    "application/vnd.databricks.v1+cell": {
     "cellMetadata": {
      "byteLimit": 2048000,
      "rowLimit": 10000
     },
     "inputWidgets": {},
     "nuid": "0d5309c9-986b-407a-8ccf-9b8c0dcb3a85",
     "showTitle": false,
     "tableResultSettingsMap": {},
     "title": ""
    }
   },
   "outputs": [],
   "source": []
  }
 ],
 "metadata": {
  "application/vnd.databricks.v1+notebook": {
   "computePreferences": null,
   "dashboards": [],
   "environmentMetadata": {
    "base_environment": "",
    "environment_version": "2"
   },
   "inputWidgetPreferences": null,
   "language": "python",
   "notebookMetadata": {
    "pythonIndentUnit": 4
   },
   "notebookName": "sc_sv_dv.sat_customer_personinfo",
   "widgets": {}
  },
  "language_info": {
   "name": "python"
  }
 },
 "nbformat": 4,
 "nbformat_minor": 0
}
