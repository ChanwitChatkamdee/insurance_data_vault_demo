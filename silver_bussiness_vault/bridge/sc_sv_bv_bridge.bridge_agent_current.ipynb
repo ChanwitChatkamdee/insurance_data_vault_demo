{
 "cells": [
  {
   "cell_type": "code",
   "execution_count": 0,
   "metadata": {
    "application/vnd.databricks.v1+cell": {
     "cellMetadata": {
      "byteLimit": 2048000,
      "rowLimit": 10000
     },
     "inputWidgets": {},
     "nuid": "9caa3f86-9b4d-4e0f-929a-022cbfd58e29",
     "showTitle": false,
     "tableResultSettingsMap": {},
     "title": ""
    }
   },
   "outputs": [],
   "source": [
    "import sys\n",
    "sys.path.append(\"../../\")"
   ]
  },
  {
   "cell_type": "code",
   "execution_count": 0,
   "metadata": {
    "application/vnd.databricks.v1+cell": {
     "cellMetadata": {
      "byteLimit": 2048000,
      "rowLimit": 10000
     },
     "inputWidgets": {},
     "nuid": "c239ccea-96ca-44b7-a257-08835f70f961",
     "showTitle": false,
     "tableResultSettingsMap": {},
     "title": ""
    }
   },
   "outputs": [],
   "source": [
    "from pyspark.sql.functions import *\n",
    "from bussiness.customer import bv_bridge_agent_current_schema"
   ]
  },
  {
   "cell_type": "code",
   "execution_count": 0,
   "metadata": {
    "application/vnd.databricks.v1+cell": {
     "cellMetadata": {
      "byteLimit": 2048000,
      "rowLimit": 10000
     },
     "inputWidgets": {},
     "nuid": "f73f514e-3c4d-496e-b68c-5126cb437315",
     "showTitle": false,
     "tableResultSettingsMap": {},
     "title": ""
    }
   },
   "outputs": [],
   "source": [
    "partition_name = 'partition_date'\n",
    "partition_date = '20250828'\n",
    "partition_date_fmt = f\"{partition_date[:4]}-{partition_date[4:6]}-{partition_date[6:]}\""
   ]
  },
  {
   "cell_type": "code",
   "execution_count": 0,
   "metadata": {
    "application/vnd.databricks.v1+cell": {
     "cellMetadata": {
      "byteLimit": 2048000,
      "rowLimit": 10000
     },
     "inputWidgets": {},
     "nuid": "4bb5fed4-f3bc-4f7b-be0f-ab6e38acdc1d",
     "showTitle": false,
     "tableResultSettingsMap": {},
     "title": ""
    }
   },
   "outputs": [],
   "source": [
    "hub_cust_table = \"ctl_central_published.sc_sv_dv.hub_customer_daily\"\n",
    "link_cust_pol_table = \"ctl_central_published.sc_sv_dv.link_customer_policy\"\n",
    "link_pol_agent_table = \"ctl_central_published.sc_sv_dv.link_policy_agent\"\n",
    "\n",
    "output_table = \"ctl_central_published.sc_sv_bv_customer.bridge_agent_current\""
   ]
  },
  {
   "cell_type": "markdown",
   "metadata": {
    "application/vnd.databricks.v1+cell": {
     "cellMetadata": {
      "byteLimit": 2048000,
      "rowLimit": 10000
     },
     "inputWidgets": {},
     "nuid": "6e4cf1a8-9117-4d4a-9f32-696ffb1fe0a8",
     "showTitle": false,
     "tableResultSettingsMap": {},
     "title": ""
    }
   },
   "source": [
    "# Customer"
   ]
  },
  {
   "cell_type": "code",
   "execution_count": 0,
   "metadata": {
    "application/vnd.databricks.v1+cell": {
     "cellMetadata": {
      "byteLimit": 2048000,
      "rowLimit": 10000
     },
     "inputWidgets": {},
     "nuid": "d370d5b8-4d28-403c-8438-4f19aa312da8",
     "showTitle": false,
     "tableResultSettingsMap": {},
     "title": ""
    }
   },
   "outputs": [],
   "source": [
    "today_cust = spark.sql(f\"\"\"\n",
    "                        select * \n",
    "                        from {hub_cust_table}\n",
    "                        where {partition_name} = '{partition_date_fmt}'\n",
    "                       \"\"\")\n",
    "today_cust.display()"
   ]
  },
  {
   "cell_type": "markdown",
   "metadata": {
    "application/vnd.databricks.v1+cell": {
     "cellMetadata": {
      "byteLimit": 2048000,
      "rowLimit": 10000
     },
     "inputWidgets": {},
     "nuid": "bd7616cf-a0f8-419c-9392-2895a08c6dee",
     "showTitle": false,
     "tableResultSettingsMap": {},
     "title": ""
    }
   },
   "source": [
    "# Link customer policy"
   ]
  },
  {
   "cell_type": "code",
   "execution_count": 0,
   "metadata": {
    "application/vnd.databricks.v1+cell": {
     "cellMetadata": {
      "byteLimit": 2048000,
      "rowLimit": 10000
     },
     "inputWidgets": {},
     "nuid": "b8ae5d62-c903-46ca-9528-b396a26cf6f9",
     "showTitle": false,
     "tableResultSettingsMap": {},
     "title": ""
    }
   },
   "outputs": [],
   "source": [
    "link_cust_pol = spark.sql(f\"\"\"\n",
    "                        select * \n",
    "                        from {link_cust_pol_table}\n",
    "                       \"\"\")\n",
    "link_cust_pol.display()"
   ]
  },
  {
   "cell_type": "code",
   "execution_count": 0,
   "metadata": {
    "application/vnd.databricks.v1+cell": {
     "cellMetadata": {
      "byteLimit": 2048000,
      "rowLimit": 10000
     },
     "inputWidgets": {},
     "nuid": "dfcaf270-c55b-4018-b818-9ebc1e40e773",
     "showTitle": false,
     "tableResultSettingsMap": {},
     "title": ""
    }
   },
   "outputs": [],
   "source": [
    "today_cust_pol = today_cust.alias(\"t\").join(link_cust_pol.alias('l'), on=\"customer_id\", how=\"left\")\\\n",
    "    .select(\"t.customer_id\",\n",
    "            \"t.partition_date\",\n",
    "            \"l.policy_number\",)\n",
    "today_cust_pol.display()"
   ]
  },
  {
   "cell_type": "markdown",
   "metadata": {
    "application/vnd.databricks.v1+cell": {
     "cellMetadata": {
      "byteLimit": 2048000,
      "rowLimit": 10000
     },
     "inputWidgets": {},
     "nuid": "d7b06f28-a8fe-430e-914d-d953f4573200",
     "showTitle": false,
     "tableResultSettingsMap": {},
     "title": ""
    }
   },
   "source": [
    "# Link cust agent"
   ]
  },
  {
   "cell_type": "code",
   "execution_count": 0,
   "metadata": {
    "application/vnd.databricks.v1+cell": {
     "cellMetadata": {
      "byteLimit": 2048000,
      "rowLimit": 10000
     },
     "inputWidgets": {},
     "nuid": "d07389b6-9725-4488-a2d4-019417060db7",
     "showTitle": false,
     "tableResultSettingsMap": {},
     "title": ""
    }
   },
   "outputs": [],
   "source": [
    "link_pol_agent = spark.sql(f\"\"\"\n",
    "                        select * \n",
    "                        from {link_pol_agent_table}\n",
    "                       \"\"\")\n",
    "link_pol_agent.display()"
   ]
  },
  {
   "cell_type": "code",
   "execution_count": 0,
   "metadata": {
    "application/vnd.databricks.v1+cell": {
     "cellMetadata": {
      "byteLimit": 2048000,
      "rowLimit": 10000
     },
     "inputWidgets": {},
     "nuid": "a331dcd2-ab2a-4026-9aa4-f8600a3c95bd",
     "showTitle": false,
     "tableResultSettingsMap": {},
     "title": ""
    }
   },
   "outputs": [],
   "source": [
    "today_cust_pol_agent = today_cust_pol.alias(\"t\").join(link_pol_agent.alias('l'), on=\"policy_number\", how=\"left\")\\\n",
    "    .select(\"t.customer_id\",\n",
    "            \"t.partition_date\",\n",
    "            \"t.policy_number\",\n",
    "            \"l.license_number\",\n",
    "    ).drop(\"policy_number\")\\\n",
    "    .dropDuplicates()\n",
    "today_cust_pol_agent.display()"
   ]
  },
  {
   "cell_type": "markdown",
   "metadata": {
    "application/vnd.databricks.v1+cell": {
     "cellMetadata": {
      "byteLimit": 2048000,
      "rowLimit": 10000
     },
     "inputWidgets": {},
     "nuid": "dab69810-2ef8-43ad-b7c7-be3964672d25",
     "showTitle": false,
     "tableResultSettingsMap": {},
     "title": ""
    }
   },
   "source": [
    "# Save to table"
   ]
  },
  {
   "cell_type": "code",
   "execution_count": 0,
   "metadata": {
    "application/vnd.databricks.v1+cell": {
     "cellMetadata": {
      "byteLimit": 2048000,
      "rowLimit": 10000
     },
     "inputWidgets": {},
     "nuid": "7003169a-e2e8-419f-b1a2-648056c675e3",
     "showTitle": false,
     "tableResultSettingsMap": {},
     "title": ""
    }
   },
   "outputs": [],
   "source": [
    "if not spark.catalog.tableExists(output_table):\n",
    "    bv_bridge_agent_current_schema = bv_bridge_agent_current_schema()\n",
    "    (\n",
    "        spark.createDataFrame([], bv_bridge_agent_current_schema)\n",
    "        .write\n",
    "        .format(\"delta\")\n",
    "        .partitionBy(partition_name)\n",
    "        .saveAsTable(output_table)\n",
    "    )"
   ]
  },
  {
   "cell_type": "code",
   "execution_count": 0,
   "metadata": {
    "application/vnd.databricks.v1+cell": {
     "cellMetadata": {
      "byteLimit": 2048000,
      "rowLimit": 10000
     },
     "inputWidgets": {},
     "nuid": "9c2d07e8-95f5-4a6b-a35b-e9053789c2ec",
     "showTitle": false,
     "tableResultSettingsMap": {},
     "title": ""
    }
   },
   "outputs": [],
   "source": [
    "spark.conf.set(\"spark.sql.sources.partitionOverwriteMode\", \"dynamic\")\n",
    "\n",
    "today_cust_pol_agent.write.mode(\"overwrite\").saveAsTable(output_table)"
   ]
  }
 ],
 "metadata": {
  "application/vnd.databricks.v1+notebook": {
   "computePreferences": null,
   "dashboards": [],
   "environmentMetadata": {
    "base_environment": "",
    "environment_version": "2"
   },
   "inputWidgetPreferences": null,
   "language": "python",
   "notebookMetadata": {
    "pythonIndentUnit": 4
   },
   "notebookName": "sc_sv_bv_bridge.bridge_agent_current",
   "widgets": {}
  },
  "language_info": {
   "name": "python"
  }
 },
 "nbformat": 4,
 "nbformat_minor": 0
}
