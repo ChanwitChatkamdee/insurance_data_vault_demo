{
 "cells": [
  {
   "cell_type": "code",
   "execution_count": 0,
   "metadata": {
    "application/vnd.databricks.v1+cell": {
     "cellMetadata": {
      "byteLimit": 2048000,
      "rowLimit": 10000
     },
     "inputWidgets": {},
     "nuid": "20951366-4fea-47d8-a480-f5ec267edc29",
     "showTitle": false,
     "tableResultSettingsMap": {},
     "title": ""
    }
   },
   "outputs": [],
   "source": [
    "import sys\n",
    "sys.path.append(\"../../\")"
   ]
  },
  {
   "cell_type": "code",
   "execution_count": 0,
   "metadata": {
    "application/vnd.databricks.v1+cell": {
     "cellMetadata": {
      "byteLimit": 2048000,
      "rowLimit": 10000
     },
     "inputWidgets": {},
     "nuid": "1c539adf-91f4-468e-9e96-ef578763f8c2",
     "showTitle": false,
     "tableResultSettingsMap": {},
     "title": ""
    }
   },
   "outputs": [],
   "source": [
    "from pyspark.sql.types import *\n",
    "from pyspark.sql.functions import *\n",
    "\n",
    "from src_staging.sv_policy_stage import create_policy_stage, sat_policy_details_schema"
   ]
  },
  {
   "cell_type": "code",
   "execution_count": 0,
   "metadata": {
    "application/vnd.databricks.v1+cell": {
     "cellMetadata": {
      "byteLimit": 2048000,
      "rowLimit": 10000
     },
     "inputWidgets": {},
     "nuid": "52000602-ba2a-48e8-a74f-cd0b3106164c",
     "showTitle": false,
     "tableResultSettingsMap": {},
     "title": ""
    }
   },
   "outputs": [],
   "source": [
    "partition_name = 'partition_date'\n",
    "partition_date = '20250828'"
   ]
  },
  {
   "cell_type": "code",
   "execution_count": 0,
   "metadata": {
    "application/vnd.databricks.v1+cell": {
     "cellMetadata": {
      "byteLimit": 2048000,
      "rowLimit": 10000
     },
     "inputWidgets": {},
     "nuid": "941117bc-0a2a-4ec5-b98b-32859dd4f575",
     "showTitle": false,
     "tableResultSettingsMap": {},
     "title": ""
    }
   },
   "outputs": [],
   "source": [
    "_bz_table = 'ctl_central_published.sc_bz_source_name.dt_customer_journey_daily'\n",
    "_sat_sv_table = 'ctl_central_published.sc_sv_raw_vault.sat_policy_details'\n",
    "partition_date_fmt = f\"{partition_date[:4]}-{partition_date[4:6]}-{partition_date[6:]}\""
   ]
  },
  {
   "cell_type": "code",
   "execution_count": 0,
   "metadata": {
    "application/vnd.databricks.v1+cell": {
     "cellMetadata": {
      "byteLimit": 2048000,
      "rowLimit": 10000
     },
     "inputWidgets": {},
     "nuid": "0aeafb46-d8cf-4d0e-aa10-5ab0965e9eb5",
     "showTitle": false,
     "tableResultSettingsMap": {
      "0": {
       "dataGridStateBlob": "{\"version\":1,\"tableState\":{\"columnPinning\":{\"left\":[\"#row_number#\"],\"right\":[]},\"columnSizing\":{},\"columnVisibility\":{}},\"settings\":{\"columns\":{}},\"syncTimestamp\":1754810953756}",
       "filterBlob": null,
       "queryPlanFiltersBlob": null,
       "tableResultIndex": 0
      }
     },
     "title": ""
    }
   },
   "outputs": [],
   "source": [
    "sv_df = create_policy_stage(_bz_table, partition_name, partition_date_fmt)\n",
    "sv_df.display()"
   ]
  },
  {
   "cell_type": "code",
   "execution_count": 0,
   "metadata": {
    "application/vnd.databricks.v1+cell": {
     "cellMetadata": {
      "byteLimit": 2048000,
      "rowLimit": 10000
     },
     "inputWidgets": {},
     "nuid": "8bf90b56-7aba-4723-84e9-d6c3a02ab653",
     "showTitle": false,
     "tableResultSettingsMap": {},
     "title": ""
    }
   },
   "outputs": [],
   "source": [
    "incoming = (\n",
    "    sv_df.select(\n",
    "        \"policy_number\",\n",
    "        \"policy_type\",\n",
    "        \"coverage_amount\",\n",
    "        \"premium_amount\",\n",
    "        \"start_date\",\n",
    "        \"end_date\",\n",
    "        \"record_source\",\n",
    "        \"event_ts\",\n",
    "        \"partition_date\",\n",
    "    )\n",
    "    # hash only descriptive attrs (no BK/timestamps)\n",
    "    .withColumn(\n",
    "        \"hashdiff\",\n",
    "        sha2(concat_ws(\"||\",\n",
    "            coalesce(col(\"policy_type\"), lit(\"\")),\n",
    "            coalesce(col(\"coverage_amount\").cast(\"string\"), lit(\"\")),\n",
    "            coalesce(col(\"premium_amount\").cast(\"string\"), lit(\"\")),\n",
    "            coalesce(col(\"start_date\").cast(\"string\"), lit(\"\")),\n",
    "            coalesce(col(\"end_date\").cast(\"string\"), lit(\"\"))\n",
    "        ), 256)\n",
    "    )\n",
    "    .withColumn(\"effective_from_ts\", col(\"event_ts\"))\n",
    "    .select(\"policy_number\",\"policy_type\",\"coverage_amount\",\"premium_amount\",\n",
    "            \"start_date\",\"end_date\",\"hashdiff\",\"effective_from_ts\",\n",
    "            \"record_source\",\"partition_date\")\n",
    "    )\n",
    "\n",
    "incoming.createOrReplaceTempView(\"incoming_policy\")"
   ]
  },
  {
   "cell_type": "code",
   "execution_count": 0,
   "metadata": {
    "application/vnd.databricks.v1+cell": {
     "cellMetadata": {
      "byteLimit": 2048000,
      "rowLimit": 10000
     },
     "inputWidgets": {},
     "nuid": "726c336e-5256-4318-9313-157150f6fa0a",
     "showTitle": false,
     "tableResultSettingsMap": {},
     "title": ""
    }
   },
   "outputs": [],
   "source": [
    "if not spark.catalog.tableExists(_sat_sv_table):\n",
    "    (\n",
    "        spark.createDataFrame([], sat_policy_details_schema())\n",
    "        .write.format(\"delta\")\n",
    "        .saveAsTable(_sat_sv_table)\n",
    "    )\n",
    "\n",
    "spark.sql(f\"\"\"\n",
    "    MERGE INTO {_sat_sv_table} AS tgt\n",
    "    USING incoming_policy AS src\n",
    "    ON  tgt.policy_number  = src.policy_number \n",
    "    AND tgt.is_current = true\n",
    "\n",
    "    WHEN MATCHED AND tgt.hashdiff <> src.hashdiff THEN\n",
    "    UPDATE SET\n",
    "        tgt.effective_to_ts = src.effective_from_ts,\n",
    "        tgt.is_current      = false\n",
    "\n",
    "    WHEN NOT MATCHED THEN\n",
    "    INSERT (\n",
    "        policy_number, policy_type, coverage_amount, premium_amount,\n",
    "        start_date, end_date,\n",
    "        hashdiff, effective_from_ts, effective_to_ts, is_current,\n",
    "        record_source, _ingest_ts, partition_date\n",
    "    )\n",
    "    VALUES (\n",
    "        src.policy_number, src.policy_type, src.coverage_amount, src.premium_amount,\n",
    "        src.start_date, src.end_date,\n",
    "        src.hashdiff, src.effective_from_ts, NULL, true,\n",
    "        src.record_source, current_timestamp(), src.partition_date\n",
    "    )\n",
    "\"\"\")"
   ]
  }
 ],
 "metadata": {
  "application/vnd.databricks.v1+notebook": {
   "computePreferences": null,
   "dashboards": [],
   "environmentMetadata": {
    "base_environment": "",
    "environment_version": "2"
   },
   "inputWidgetPreferences": null,
   "language": "python",
   "notebookMetadata": {
    "pythonIndentUnit": 4
   },
   "notebookName": "sc_sv_dv.sat_policy_details",
   "widgets": {}
  },
  "language_info": {
   "name": "python"
  }
 },
 "nbformat": 4,
 "nbformat_minor": 0
}
