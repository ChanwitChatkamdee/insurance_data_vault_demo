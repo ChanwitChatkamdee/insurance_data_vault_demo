{
 "cells": [
  {
   "cell_type": "code",
   "execution_count": 0,
   "metadata": {
    "application/vnd.databricks.v1+cell": {
     "cellMetadata": {
      "byteLimit": 2048000,
      "rowLimit": 10000
     },
     "inputWidgets": {},
     "nuid": "693d10c4-e698-4a17-85d2-17196c46ceeb",
     "showTitle": false,
     "tableResultSettingsMap": {},
     "title": ""
    }
   },
   "outputs": [],
   "source": [
    "import sys\n",
    "sys.path.append(\"../../\")"
   ]
  },
  {
   "cell_type": "code",
   "execution_count": 0,
   "metadata": {
    "application/vnd.databricks.v1+cell": {
     "cellMetadata": {
      "byteLimit": 2048000,
      "rowLimit": 10000
     },
     "inputWidgets": {},
     "nuid": "0eb0f7ea-4ead-4ab2-a006-8706be5d0e57",
     "showTitle": false,
     "tableResultSettingsMap": {},
     "title": ""
    }
   },
   "outputs": [],
   "source": [
    "from pyspark.sql.types import *\n",
    "from pyspark.sql.functions import *\n",
    "\n",
    "from src_staging.sv_policy_stage import create_policy_stage, sat_policy_status_event_schema"
   ]
  },
  {
   "cell_type": "code",
   "execution_count": 0,
   "metadata": {
    "application/vnd.databricks.v1+cell": {
     "cellMetadata": {
      "byteLimit": 2048000,
      "rowLimit": 10000
     },
     "inputWidgets": {},
     "nuid": "6630eaa1-24d5-4386-b5ea-9bc9a4f53c78",
     "showTitle": false,
     "tableResultSettingsMap": {},
     "title": ""
    }
   },
   "outputs": [],
   "source": [
    "partition_name = 'partition_date'\n",
    "partition_date = '20250828'"
   ]
  },
  {
   "cell_type": "code",
   "execution_count": 0,
   "metadata": {
    "application/vnd.databricks.v1+cell": {
     "cellMetadata": {
      "byteLimit": 2048000,
      "rowLimit": 10000
     },
     "inputWidgets": {},
     "nuid": "c75fc934-5536-424e-8fef-d46096556f00",
     "showTitle": false,
     "tableResultSettingsMap": {},
     "title": ""
    }
   },
   "outputs": [],
   "source": [
    "_bz_table = 'ctl_central_published.sc_bz_source_name.dt_customer_journey_daily'\n",
    "_sat_sv_table = 'ctl_central_published.sc_sv_raw_vault.sat_policy_status_event'\n",
    "partition_date_fmt = f\"{partition_date[:4]}-{partition_date[4:6]}-{partition_date[6:]}\""
   ]
  },
  {
   "cell_type": "code",
   "execution_count": 0,
   "metadata": {
    "application/vnd.databricks.v1+cell": {
     "cellMetadata": {
      "byteLimit": 2048000,
      "rowLimit": 10000
     },
     "inputWidgets": {},
     "nuid": "19bdc2a4-5781-43d2-a7c6-36235f387397",
     "showTitle": false,
     "tableResultSettingsMap": {},
     "title": ""
    }
   },
   "outputs": [],
   "source": [
    "sv_df = create_policy_stage(_bz_table, partition_name, partition_date_fmt)\n",
    "sv_df.display()"
   ]
  },
  {
   "cell_type": "code",
   "execution_count": 0,
   "metadata": {
    "application/vnd.databricks.v1+cell": {
     "cellMetadata": {
      "byteLimit": 2048000,
      "rowLimit": 10000
     },
     "inputWidgets": {},
     "nuid": "f205771b-1a13-4872-9ef5-024327a53cae",
     "showTitle": false,
     "tableResultSettingsMap": {},
     "title": ""
    }
   },
   "outputs": [],
   "source": [
    "status_events = (sv_df\n",
    "  .withColumn(\"evt\", explode_outer(col(\"status_history\")))\n",
    "  .select(\n",
    "    col(\"policy_number\"),\n",
    "    upper(trim(col(\"evt.status\"))).alias(\"status\"),\n",
    "    to_timestamp(col(\"evt.ts\")).alias(\"status_ts\"),\n",
    "    \"record_source\",\n",
    "    \"partition_date\"\n",
    "  )\n",
    ")\n",
    "status_events.createOrReplaceTempView(\"incoming_policy_status_event\")"
   ]
  },
  {
   "cell_type": "code",
   "execution_count": 0,
   "metadata": {
    "application/vnd.databricks.v1+cell": {
     "cellMetadata": {
      "byteLimit": 2048000,
      "rowLimit": 10000
     },
     "inputWidgets": {},
     "nuid": "2db0653d-586e-4fe3-b9cb-9041ed01a009",
     "showTitle": false,
     "tableResultSettingsMap": {},
     "title": ""
    }
   },
   "outputs": [],
   "source": [
    "if not spark.catalog.tableExists(_sat_sv_table):\n",
    "    (spark.createDataFrame([], sat_policy_status_event_schema())\n",
    "         .write.format(\"delta\")\n",
    "         .saveAsTable(_sat_sv_table))"
   ]
  },
  {
   "cell_type": "code",
   "execution_count": 0,
   "metadata": {
    "application/vnd.databricks.v1+cell": {
     "cellMetadata": {
      "byteLimit": 2048000,
      "rowLimit": 10000
     },
     "inputWidgets": {},
     "nuid": "9205be91-677f-433f-80e1-4a77c8301cc6",
     "showTitle": false,
     "tableResultSettingsMap": {},
     "title": ""
    }
   },
   "outputs": [],
   "source": [
    "spark.sql(f\"\"\"\n",
    "        MERGE INTO {_sat_sv_table} AS tgt\n",
    "        USING incoming_policy_status_event AS src\n",
    "        ON  tgt.policy_number = src.policy_number\n",
    "        AND tgt.status_ts     = src.status_ts\n",
    "        AND tgt.status        = src.status\n",
    "        WHEN NOT MATCHED THEN\n",
    "        INSERT (policy_number, status, status_ts, record_source, _ingest_ts, partition_date)\n",
    "        VALUES (src.policy_number, src.status, src.status_ts, src.record_source, current_timestamp(), src.partition_date)\"\"\"\n",
    ")"
   ]
  },
  {
   "cell_type": "code",
   "execution_count": 0,
   "metadata": {
    "application/vnd.databricks.v1+cell": {
     "cellMetadata": {
      "byteLimit": 2048000,
      "rowLimit": 10000
     },
     "inputWidgets": {},
     "nuid": "489f7442-950b-4cbd-8df5-4236b74eca31",
     "showTitle": false,
     "tableResultSettingsMap": {},
     "title": ""
    }
   },
   "outputs": [],
   "source": []
  }
 ],
 "metadata": {
  "application/vnd.databricks.v1+notebook": {
   "computePreferences": null,
   "dashboards": [],
   "environmentMetadata": {
    "base_environment": "",
    "environment_version": "2"
   },
   "inputWidgetPreferences": null,
   "language": "python",
   "notebookMetadata": {
    "pythonIndentUnit": 4
   },
   "notebookName": "sc_sv_dv.sat_policy_status_event",
   "widgets": {}
  },
  "language_info": {
   "name": "python"
  }
 },
 "nbformat": 4,
 "nbformat_minor": 0
}
